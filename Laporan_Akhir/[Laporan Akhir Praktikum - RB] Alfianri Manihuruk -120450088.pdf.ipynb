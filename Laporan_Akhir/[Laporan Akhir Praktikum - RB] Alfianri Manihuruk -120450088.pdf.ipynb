{
 "cells": [
  {
   "cell_type": "markdown",
   "id": "294cd478",
   "metadata": {},
   "source": [
    "#  LAPORAN AKHIR PRAKTIKUM  PEMOGRAMAN BERBASIS FUNGSI"
   ]
  },
  {
   "cell_type": "raw",
   "id": "c1223a84",
   "metadata": {},
   "source": [
    "Nama   : Alfianri Manihuruk\n",
    "NIM    : 120450088\n",
    "Kelas  : RB\n",
    "Matkul : Pemograman Berbasis Fungsi "
   ]
  },
  {
   "cell_type": "markdown",
   "id": "10c59628",
   "metadata": {},
   "source": [
    "## Jurnal Modul 1"
   ]
  },
  {
   "cell_type": "markdown",
   "id": "b94dc18b",
   "metadata": {},
   "source": [
    "### 1. Seorang mahasiswa sains data ingin menyewa buku dari sebuah startup yang menyediakan layanan sewa buku, Startup tersebut memiliki ketentuan sewa dengan aturan sebagai berikut:\n",
    "\n",
    "- a. Harga sewa buku berbeda-beda sesuai dengan kategorinya\n",
    "- b. Harga sewa buku dihitung berdasarkan jumlah halaman nya\n",
    "- c. Harga sewa buku dihitung per hari nya\n",
    "- d. Maksimal durasi sewa adalah 26 hari\n",
    "\n",
    "Startup tersebut masih dalam tahap awal pengembangan, sehingga ingin melakukan uji coba penye-\n",
    "waan 5 kategori buku. Berikut rincian kategori nya:\n",
    "\n",
    "- Kategori 1 : 100 rupiah per lembar per hari\n",
    "- Kategori 2 : 200 rupiah per lembar per hari\n",
    "- Kategori 3 : 250 rupiah per lembar per hari\n",
    "- Kategori 4 : 300 rupiah per lembar per hari\n",
    "- Kategori 5 : 500 rupiah per lembar per hari\n",
    "\n",
    "Startup tersebut memerlukan sebuah program untuk:\n",
    "- menghitung total biaya dari customer\n",
    "- mencatat tanggal awal sewa, dan durasi hari\n",
    "- menampilkan informasi kapan tanggal pengembalian buku dari customer\n",
    "\n",
    "Format input tanggal adalah yyyy-mm-dd\n",
    "Bantulah startup tersebut membuat program tersebut dengan menggunakan konsep modularisasi!"
   ]
  },
  {
   "cell_type": "code",
   "execution_count": null,
   "id": "5bc05ae8",
   "metadata": {},
   "outputs": [],
   "source": [
    "tanggal = input('tanggal pinjam :')\n",
    "durasi = int( input ('durasi pin: '))\n",
    "kategoris ={\n",
    "    1:100,\n",
    "    2:200,\n",
    "    3:250,\n",
    "    4:300,\n",
    "    5: 500\n",
    "}"
   ]
  },
  {
   "cell_type": "code",
   "execution_count": 25,
   "id": "ae321bfb",
   "metadata": {},
   "outputs": [],
   "source": [
    "def dtl(s_tgl):\n",
    "    return [ int (k) for k in s_tgl.split('-')]\n",
    "\n",
    "def is_cm (tgl_p, d, c):\n",
    "    return tgl_p[2] + d > c\n",
    "\n",
    "def thn_back(tgl_p, d, c):\n",
    "    return tgl_p[0] + 1 if ( is_cm(tgl_p, d, c) and tgl_p[1] == 12 ) else tgl_p[0]\n",
    "\n",
    "def  bln_back(tgl_p, d, c):\n",
    "    return (tgl_p [1]  %  12) + 1 if  is_cm (tgl_p, d, c) else tgl_p[1]\n",
    "\n",
    "def tgl_back(tgl_p, d, c):\n",
    "    return tgl_p[2] + d - c if  is_cm(tgl_p, d, c) else tgl_p[2] + d\n",
    "\n",
    "def is_awal_abad (thn):\n",
    "    return thn % 100 == 0\n",
    "\n",
    "def kabisat(thn):\n",
    "    return(is_awal_abad(thn) and thn % 400 == 0) or  (not is_awal_abad (thn) and thn % 4 == 0 )\n",
    "\n",
    "def dec_c(t):\n",
    "    return 30 + ( t[1] %  2  if  t[1] <= 8 else abs(( t[1]  % 2) - 1))  if  t[1] != 2  else ( 29 if   kabisat ( t [0] ) else 28)\n",
    "    \n",
    "def wkt_kembali(tgl_p, d):\n",
    "    return [thn_back (tgl_p,d, dec_c(tgl_p)), bln_back(tgl_p, d, dec_c(tgl_p)), tgl_back(tgl_p, d, dec_c(tgl_p)) ]"
   ]
  },
  {
   "cell_type": "code",
   "execution_count": 30,
   "id": "9f0bc6f4",
   "metadata": {},
   "outputs": [
    {
     "data": {
      "text/plain": [
       "[2022, 8, 2]"
      ]
     },
     "execution_count": 30,
     "metadata": {},
     "output_type": "execute_result"
    }
   ],
   "source": [
    "#tanggal=\"2022-08-1\"\n",
    "#durasi=1\n",
    "\n",
    "tgl_p = dtl(tanggal)\n",
    "wkt_kembali(tgl_p, durasi)"
   ]
  },
  {
   "cell_type": "code",
   "execution_count": 27,
   "id": "fb7d2a72",
   "metadata": {},
   "outputs": [],
   "source": [
    "sewaan_all = [[1,5], [2,3], [3,0], [4,1], [5,2]]\n",
    "def calc_biaya_per_kategori(kategoris, sewaan):\n",
    "    return sewaan[1] * kategoris.get(sewaan[0])\n",
    "def calc_all_biaya(kategoris, sewaan_all, durasi):\n",
    "    return sum( [ calc_biaya_per_kategori(kategoris, sewaan) for sewaan in sewaan_all]) * durasi"
   ]
  },
  {
   "cell_type": "code",
   "execution_count": 28,
   "id": "ae8cfe8a",
   "metadata": {},
   "outputs": [
    {
     "data": {
      "text/plain": [
       "14400"
      ]
     },
     "execution_count": 28,
     "metadata": {},
     "output_type": "execute_result"
    }
   ],
   "source": [
    "calc_all_biaya(kategoris, sewaan_all, durasi)"
   ]
  },
  {
   "cell_type": "markdown",
   "id": "7d5c966d",
   "metadata": {},
   "source": [
    "## Jurnal Modul 2"
   ]
  },
  {
   "cell_type": "markdown",
   "id": "3066e806",
   "metadata": {},
   "source": [
    "### 1. Buatlah sebuah fungsi bernama ulangi_NIM, ulangi memiliki input sebuah bilangan skalar a, dan mengeluarkan vektor 1xn dengan seluruh elemen nya adalah a"
   ]
  },
  {
   "cell_type": "code",
   "execution_count": 3,
   "id": "dcf7aba5",
   "metadata": {},
   "outputs": [
    {
     "data": {
      "text/plain": [
       "[5, 5, 5, 5, 5]"
      ]
     },
     "execution_count": 3,
     "metadata": {},
     "output_type": "execute_result"
    }
   ],
   "source": [
    "def ulangi_088(a): # membuat fungsi untuk jumlah atau panjang sklar\n",
    "    return list(map(lambda x: a, range(a)))# akan me return nilai si x dengan panjangnya tetap nilai tersebut dengan func range\n",
    "ulangi_088(5)"
   ]
  },
  {
   "cell_type": "markdown",
   "id": "21350e36",
   "metadata": {},
   "source": [
    "### **2. Buatlah deret bilangan sebagai berikut dengan input n sebagai panjang deret:**\n",
    "\n",
    "$$ \n",
    "\\frac{1}{2},  \\frac{-1}{4}, ⃛, (-1)^n\\frac{1}{2^{n+1}}\n",
    "$$\n"
   ]
  },
  {
   "cell_type": "code",
   "execution_count": 6,
   "id": "34ce26d7",
   "metadata": {},
   "outputs": [
    {
     "name": "stdout",
     "output_type": "stream",
     "text": [
      "[0.5, -0.25, 0.125, -0.0625, 0.03125]\n"
     ]
    }
   ],
   "source": [
    "n = 5 # inputan\n",
    "deret = list(map(lambda x: ((-1)**(x)) * (1/(2**(x+1))), range(0,n))) # Fungsi map untuk iterable n\n",
    "# Rumus deretnya menggunakan fungsi lambda untuk menghitung deret bilangan pecahan diatas dengan batas iterasi 0 sampai n\n",
    " \n",
    "print(deret)"
   ]
  },
  {
   "cell_type": "code",
   "execution_count": 7,
   "id": "15729549",
   "metadata": {},
   "outputs": [],
   "source": [
    "b = range(1,n+1)\n",
    "\n",
    "def pola_deret(x):\n",
    "    return (((-1)**(x+1)) * (1/(2**x)))"
   ]
  },
  {
   "cell_type": "markdown",
   "id": "05356cf8",
   "metadata": {},
   "source": [
    "### 3. Jumlahkan deret bilangan tersebut!"
   ]
  },
  {
   "cell_type": "code",
   "execution_count": 8,
   "id": "a3e17ff9",
   "metadata": {},
   "outputs": [],
   "source": [
    "from functools import reduce # Import library functools.reduce(function, iterable, initializer) dengan initializer adalah opsional."
   ]
  },
  {
   "cell_type": "code",
   "execution_count": 9,
   "id": "1c78d93b",
   "metadata": {},
   "outputs": [
    {
     "name": "stdout",
     "output_type": "stream",
     "text": [
      "0.34375\n"
     ]
    }
   ],
   "source": [
    "print(reduce(lambda x,y: x+y, deret)) # Menyimpan nilai sebelumnya dan menambahkan nilai yang baru dari jumlah deret bilangan"
   ]
  },
  {
   "cell_type": "markdown",
   "id": "66944c45",
   "metadata": {},
   "source": [
    "### 4. Sebuah DNA dimodelkan dalam sebuah string menjadi sequence TCGA dan disimpan ke dalam data :\n",
    "https://drive.google.com/file/d/18C1ylsTXrY9pglqqlhijoS8LYmcxdIjM/view?usp=sharing hitunglah jumlah kemunculan pola berikut pada data tersebut:"
   ]
  },
  {
   "cell_type": "code",
   "execution_count": 10,
   "id": "ba6c3a48",
   "metadata": {},
   "outputs": [
    {
     "data": {
      "text/plain": [
       "'TGTCTTCCGGCTGAGCGGTTCCTAACCAGCAGACTGATACTGGTCGAATATCGACGGGCAAGAGCCCTGGGATTGATGCGTTTCACCATGCGCGTCTCAGTGCAGGCAGGAATGCAGAGCTTACTTCAAACTAGTTACTGGCAAAAAATACAAATTTTTTCGATCGACCTTGAGTTTATTCATTACCGCACAGTCTTTTACCGCACCTGTTACCGCACATCCGTAAGTTTACCGCACGTTACCGCACTACCTCTCTATATTACCGCACTTCGTTTACCGCACGCTGAGGAACGGTTACCGCACTTACCGCACCACAAGGTGCGTGCTCTGTTATTACCGCACCACCATTACCGCACGCACTTTTATTACCGCACCAGGGCACAGCCACGTAGGGTAGCGTCGTTCTCACTGTATTGCGGCGACGGTCGTAATTTACCGCATTACCGCACCACTCGTTAGCTTACCGCACCTAGGGTTGTTACCGCACGACTTACCGCACAGCCGTTACCGCACGTGTTACTTGACGCTCTAACTCCCACTCATATCAGTCTTATTACCGCACACTGGGCTTACCGCACCCGCACCTTAAGTAGGCAGTTACCGCACGTATTACCGCACGTAATTACCGCACACCTGTAAAGGCAGGGTAAAGTACAGACTTACCGCTTACCGCACGGTTGCACCACGACAAATCTAACGTTAGGTACGTTACCGCACGGGAAATTACCGCACTCCAGGGTTTTACCGCACAGATATCCATTCGGGAATGTGACCCCTGGAGTGGAGTTGTGCGAAAGATACGGAGTTTTCAAGGGCACACCCAGCTATGTTATTAAGCGTTACAGTGGCCGCTGCATCATGTCAATGTTCAGGTCATTCTCTATCTTGCTATGTACGAACCCTCGTTAAGAGGGAGTAAGCGATCTTTTGACAAAATCGTATGCATGTAGGCGAGGCAATGCCGATTACATTGAACGGCGGGACTTTTCGTATGAGACACCGCGGTTGAAATATTTTTTTATGCAAGAGCGGGATTGGGCGGAAGGAGACTTAACGCAGTGCCTAGCACTGTTAACTGCGGCATGGCCGGATGGACTACCTATTTTGCAGCTCCAGCGTTTGAGTTCCACGTACTGACGGAACAGTCCCGAGATAGGCCATGTGGTCGATCCCAGTGAGAAATGAGACTCGAGATGCCGGTACCGGTAGCATCACCACATTGCTCCAGTATGATATCAGTCTTCACTGTCAGCAATTAATGCAGCGATCTTGAAGAGAGTTATTCATCTCTTATCACCTGACAATAAATCAATTTACCAGTCAAATTCTCTTTAACATCGTGCCGAACTGCGATGCGTCGTAGTCTAGATTAGGATATATTTTCTTAGCTGGCTTCGATGATTGGCTGTACGCTAAGGTGATTGAATTTCGATCTGCATTGGAGCTGTACCCCACCTTGCATGGCATTGACAGCCTAAAGCGTGAAGAATGCAATACAGCTGACAGAAAAATAACGGGCTCGATAACGTTCCAAGATTCTGACTTAACGACGGCTAGCGAGCGAGTCATAAATCCCGTCCACACCGGGCAATCGGGTCGGAGTGGAAAGGGCGGGATTTTATTATTACGTGACGCAGATCTCCGTGTCACTATACTCACATCCTCTCTGTAGATAAAGTTATACCAACCTCCATATTCTTCTTACGCTAAGTTCGGGCTATCCGAGTCTCGGCCCATAGCAGGAGCACTTTAAGGGAAGTCCTATTGCCGAATACAGTACGTTCCCCGCAATATGTTATACTCACCCAAATATGTTAATATGTTATATGTTAAAACGCAGTGTGGGAATATGTTAATATGTTATGTGAATATGTTAAAATATGTTAAAATATGTTAACGATGTTAGCCGTGATAAATATGTTATTAACGGCGTGCGTTAATATGTTAGCGACGACTGGGGGTCAATATGTTAGCCAACTTCCTCAATATGTTAACCGGTTAATATGTTAGTTAAGATCAATAAATATGTTAGCTACGTAGACAATAAAAGCATAAGCAATATGTTATAATATGTTAGACAGTTCTCTAACCGATAATATGTTAAGGCATACTTAACCAGCGAATGACAGAAATATGTTAATATGTTAAATAAATATGTTAGATAATATGTTACGATATTACCCGCACATTGCTCCGAATATGAATATGTTAAGGTGGTTCTCCGTATTTAATATTGTGAGAGATAGCTTGTGAGAGATGTTGTTGTGAGAGAGCTGTGAGAGCTTTGCGAGCCTTTAAATATTGTGAGAGTTATGTAGTCGGCCTGTGAGAGATGTGTGAGAGAGTTAAATATGTTAGTTAGCTGAGAGCTACGCTGTGAGAGGCGAATTGACGTAGTGCTTTTTGTTCTGTGAGAGATGTGTGAGAGTGTGAGAGCGCGTGTGAGTGTGAGAGTGATTGTGCATGGTCCAGTAAGATGTGAGAGTGTGAGAGTGATCTAACGCTATGTGTGAGAGAGGGTGTGAGAGGCTGCGTATGAAGCACAAATGTGAGAGTTGTGAGAGATACGTTAAGAGCCCGGAAGCTCGGCATCATAAGCTGAGCAGATTCAATGTGAGAGGGCGAGCCGACGGTAGGCTGTGAGAGTCATTATTGTGAGAGTCGCGTGGTGTGAGAGTCCCATTTTATGTGAGATGTGAGAGCTCTGGGGCTGTGATGTGAGAGAGTACGCCGAAGCGTGTGAGAGTCCTGTGAGAGATTCGGAGGTCTGGATGACATTGTGAGAGCCTGCTTACGCGACGTGATGAACGCGACCGACTAGCGACCGCCCACTACTACTCGCAGTTGGTCTAGAGGCATTGCTTTACTGAAATACGCAGGATGCTTATGACGCTCGCGCCAATACATCGCGCTCGCACTGTATGTCGCTTCACCTTAATCCTAAAGCTCAAATATAACGGAAAAAGAGAAATTAGGACGACCGAGGGTCGTCCTCCGGTGGTTTTCACGACTTCGCCAATGGCGTGCTGCGTCGAAATGTGCTCAAAGCCCCGTAAAGCTCAGACACCATGCAGGAATGGGAATGTGTACCCAGAGATCCCTAGTAAGAGAGATCCAAGACTTAAAGCCGTTCCGAGAGAGATCTAATCACTAGAGATCTTAACACCAATAGAGATCCTCTAAGAGATCAGTAGAGATCGCTTTTCAGAGATAGAGATCACTCACCGAGAGATCTTACAGTTTGATATGTCAGTTCGGTTAAAAGCAGAGATCGTCTGCAGAGATCGGTAGCGTAGAGATCCCGTGTCGTACAAAAACTTAGAGATCAGATCGCGCCTCGAACTGTACTTAGAGATCTACATTATCTAAGAGAGAGATCAGAGATCACAAGGCCACACACGACAAAGTTAGAGATCTACACACGATAGGTGGTGCCGAACCTGAGAGATCCGGGTTTTGAGAGAGATCAAGAGATAGAGATCGTTAGAGAAGAGATCTAGAGATCGCACGGGTTTTGGAGAGATCGTTCGGGTTTTGTCGGGAAGAGATTAATGCGGTGAGTTAATGCGGGTATAATGCGGCAGATAATGTAATGCGGTCTAATGTAATGCGGGAGATAATGCGGTGATGAAACTTAATGCGGCTAATGCGGTTAATGCGGTCGAACGCTAATGCGGAGCTAATGCGGGCGTAACATAATGTAATGCGGTTGTCAATATTGTTTTCAATATTAATATTCAATTACAATATTCAAACGCAATATTAAACGGCCGGTAATGCGGGGTCAATCAATATTTTCGTAATGCGGGGTTAATGCGGTTTTCAATATTATCGGTAATGCGGGAGCTGGCAATATTGGTTTTGGTAATGCGGTTTAATAATGCGGGGCGACAATATTGGGTAATGCGGATATTTATCAATATTGTGTTTCAATATTTAACACAATATTTGCCGTAGGTATGACCTAATTAATGCGGATATTAGGGGCCAATTAATGCGGATCGTAATGCGGGTCGGGCTTATAACAATTAATGCGGTCAATATTACTAATGCTAATGCGGCGGACTACAATATTTACAAAAGACTACCAATAATGCGGATAATGCGGTCAATAATGCGGAAGATAACGCGGCAATATTGCCCGACAATATTTGACTACACAAGACTACACAATATTCCGTTATTCTGTGCCAACGCCAGGTCAATGCGTCGAACCAATATTCTTGATTGTGATGCAGACTACACGACTACAATATTTACCCCCGGGACTACATATCCACGACTACAGGGCGAGACTACATAGGGACTACAGACTACAACAATTATGGTCACATTAACTCTGCCCGGCGGCTCTTCCCTAAATCTCACGTGATGGACTAGACTACACCGACTACAACATACTTTGCAACGACTACAGTACGTTAAGACTACAGGATTCAGACTACACTTGATTTCCTGACTACACTTCTGACAACCCGCACATTGCCCGCTAACTCTGATGGCCCCCAGAGACTACATACCATCGAGCGCGACTACAGGACTACAGCCGTAGACCCTTTAGACTACACGCCAGGGCCAACTGACACGGATAAGGTCTTTGCCCCGCAAGTGCTCGCCGAATGTGATTAATCTCAACATTCCGACCTGCAAGAGCACACGCATTTGATATGGGTATAAGGAAGATCTCGTCCAGCTATAATGTACAACATTTCCCCGTCATGACTTGCTACATAAACAGAATAAGACGTGACGTCGCCAATATAAGACGTACTCGATTGACCGTAAAATTTTTCTAAGAACCAAAATAAGACGTAAGACGTTCACTTAAATAAGACGTAGGGCGTTACCGATAAGACGTTAAGACGTGGATCGCCATCGCCCGTGAGTCGCTCTCCCGCATAAGACGTTAAGACGTCCCAATAGTGCTCCCTACACTTTACCGGTGGTAGATAAGACGTAGACGTTATAAGACGTCGGGTAAATATAAGACGTTATTCCCAATAAATAAGACGTAATCCCTGTAACACTGGAAGTGATAAGACGTTTGTTCTAACATAAGACGTTGTAACTGCCCTAACCCTGATAAGACGTTTTAAAAAGTACTATAAGACGTTCGAGGAATGAGACCATAAGACGTCGTCCCTCCCTCAGCACTGAATTTTTTCGAAGATAAGACGTAAGACGTGTTGGTTTATCGTTAGAAATAAGACGTACGTTTATAAGACGTAATGGTCATAAGACGTACGTTAAGACGTAATAAGACGTTATCCATCCCAAAATTACACGTCAGAAATCATGGCAACCGCCGTGATGGAAGAGAGTAGCAACCGACTACATACAGTATACTGTGGGCAGACTCGTTTGTACACCAACACTTCCGCCGCCATTATTAAATACGATTGGTGCTTTACGCATCTTGATGACCATGGTTACTCACCTCGGGTGCTGACCCGCCTGTCTCCTATGACGTCGGGCTCCACTACGGCCCCGTTTCGACAGATAGGGGGGAGTTGACCTCGAATGCGGGTTACTTCGCCTGCCTTTCGACGAATCGGTATGGCTAGCTTGGACAAGTATAGGATTGGTCTTTCAAGCTGCACTGTTTTGCAGCTTCTAGCGAGATAAGGCTGAAGCCTCCAGCGATATTGTCCAGTTGGAAAAAAGTTGGAAAAATGGGGGTTTGGAAAAAAGAAAACGCCCGGGTTACACCGGGGACATAATTGGAAAAAACCAGTTGGAAAAAGCTTAGAAAGCTTGGAAAAAGTCTTGGGAACAATTATTGGAAAAACGATGGGCGACTGAGAGTTGGAAAAAAAAATTGGAAAAATTGGAAAAACGTGGCTTTGGAAAAATGGAAAAAGATTGGAAAAATTGGAAAAACTTTTGGAATTGGAAAAAAAAGCCACTGCGGGTGCTTTGGAAAAAATATTTGGAAAAAACTAGCAAAGCGGCATTCTGAGAGATTGGAAAAACGTGCTAAGCTTCTTTGGAAAAAGAATTGGAAAAAAAAAAGCGCACCACTCAGGAAGACATGTCTGGCACTTTAGCGTTAAAGTTTGGAAAAAACTCCTCCCACATTTGGAAAAATGGAAAAAGAATCGGTTAGAGCGGCACGTGTCATATTGGAAAAATACTCAGCGCGTTAGCAGTTGGAAAAAAATGATGACTATGTTTGGAAGACAAGGAGAAAGTCTCCGAACAACATCCATGACAAGGAGGAGGCTGGACAAGGATTCAGGCTGTTCAGACAAGGAGGGACGACAAGGAAGGACTGTTCAGGCTGGACAAGACAAGGACTGTTGACAAGGACAGGACAAGGACGAAAGGCTGTTCAGGGACAAGGAAGGACAGGCTGTTCAGAGGACGAGGACGACAAGGAAGGCTGTTCAGGCTGTTCAGGAGGACGAGGAAGGATGTTCGACAAGAGGACGACAGGCTAGGACGACGAAGAGGACGACTGTTCAGGCTGTAGGACGAGGACGAAAGGATGTTGACAAGGAGGAGAGGAGGACGAGGAAGGACGAAAGGAGACAAGGAGACAAGGAGACAAGGAAGGACGAAGGACGAAGGACGAAGGACGAAGGACGAAGGACGAAGGACAGAGGACAGGACGACGAAGGACGAAGGACGAAGGACAGGACGAAGGACGAAGGACGAAGGACGACAATCATCAATCATCAATCATCAATCATCAATCATCAATCATCAATCATCAATCATCAATCATCAATCATCAATCATCAATCATCAATCATCAATCATCAATCATCAATCATCAATCATCAATCATCAATCATCAATCATCAATCATCAATCATCAATCATCAATCATCAATCATCAATCATCAATCATCAATCATCAATCATCAATCATCAATCATCAATCATCAATCATCAATCATCAATCATCAATCATCAATCATCAATCAT'"
      ]
     },
     "execution_count": 10,
     "metadata": {},
     "output_type": "execute_result"
    }
   ],
   "source": [
    "filename= 'DNA.txt' # kita deklarasikan filenya menjadi sebuah variabel (filename)\n",
    "dat = open(filename, 'r').read() #membuka file, fungsi dari (r) adalah membaca file tersebut  \n",
    "dat=dat[:-1] # melakukan slicing pada data sehingga memotong indexnya hanya 1\n",
    "seq = 'ACT' # membuat variabel seq dengan isi string(\"ACT\")\n",
    "dat #menampilkan data "
   ]
  },
  {
   "cell_type": "code",
   "execution_count": 11,
   "id": "215fc201",
   "metadata": {},
   "outputs": [],
   "source": [
    "#memodulkan setiap fungsi yang akan digunakan\n",
    "\"\"\" Fungsi append_n adalah menambahkan nilai array pada nilai akhir dan membagi data DNA sesuai dengan n yang dibutuhkan, \n",
    "Rumusnya a nilai sebelumnya data DNA, b nilai yang baru dari data DNA dengan batasan index dat\"\"\"\n",
    "def append_n(dat,i,n):\n",
    "    return reduce(lambda a,b: a+b, dat [i: i+n])\n",
    "\n",
    "\"\"\" Fungsi remap adalah memetakan kembali dari sequence yang baru dan anyaknya urutan dikurang banyaknya kombinasi\"\"\"\n",
    "def remap(dat, seq):\n",
    "    return map( lambda x: append_n(dat, x, len(seq)), range (len(dat) -  len(seq) + 1))\n",
    "\n",
    "\"\"\"pada fungsi ke-2 remap dihitung jumlah sequence yang muncul \"\"\"\n",
    "def count_mer(dat, seq):\n",
    "    return reduce (lambda a,b : a + (1 if b == seq else 0), remap(dat,seq), 0)\n"
   ]
  },
  {
   "cell_type": "code",
   "execution_count": 12,
   "id": "04e61e0d",
   "metadata": {},
   "outputs": [
    {
     "data": {
      "text/plain": [
       "'CAT'"
      ]
     },
     "execution_count": 12,
     "metadata": {},
     "output_type": "execute_result"
    }
   ],
   "source": [
    "list(remap(dat, 'ACT'))[-1] # mengubah dna \"act\" ke dna yang lain"
   ]
  },
  {
   "cell_type": "code",
   "execution_count": 13,
   "id": "435e6946",
   "metadata": {},
   "outputs": [
    {
     "data": {
      "text/plain": [
       "3"
      ]
     },
     "execution_count": 13,
     "metadata": {},
     "output_type": "execute_result"
    }
   ],
   "source": [
    "len (seq) # mencari panjang seq"
   ]
  },
  {
   "cell_type": "code",
   "execution_count": 14,
   "id": "1db0464c",
   "metadata": {},
   "outputs": [
    {
     "name": "stdout",
     "output_type": "stream",
     "text": [
      "2112 557 77 22 0\n"
     ]
    }
   ],
   "source": [
    "sequences=['A', 'AT', 'GGT', 'AAGC', ' AGCTA']\n",
    "def count_all(dat, sequences):\n",
    "    return map(lambda x: count_mer(dat, x), sequences)#melakukan perhitungan mer pada setiap sequence yang ada dalam list\n",
    "res = count_all(dat, sequences) # merupakan jumla pengembalian berapa kali res terjadi dalam dat dan sequencecs\n",
    "print(*res)"
   ]
  },
  {
   "cell_type": "markdown",
   "id": "b3a31e55",
   "metadata": {},
   "source": [
    "### 5. Reverse complement dari suatu sequence string DNA memiliki aturan sebagai berikut:"
   ]
  },
  {
   "cell_type": "code",
   "execution_count": 15,
   "id": "d4fc4596",
   "metadata": {},
   "outputs": [],
   "source": [
    "def komplemen(x):\n",
    "    return {'A':'T', 'T':'A', 'C':'G', 'G':'C'}.get(x)#Kamus(dictionary) pengubahan huruf diambil x sesuai dengan key\n",
    "def reverse_komplemen(dat):\n",
    "    return map( lambda x: komplemen(x), dat)#Setiap data yang ada diubah sesuai dengan dictionary pengubahan"
   ]
  },
  {
   "cell_type": "code",
   "execution_count": 16,
   "id": "50417a6e",
   "metadata": {},
   "outputs": [
    {
     "name": "stdout",
     "output_type": "stream",
     "text": [
      "A C A G A A G G C C G A C T C G C C A A G G A T T G G T C G T C T G A C T A T G A C C A G C T T A T A G C T G C C C G T T C T C G G G A C C C T A A C T A C G C A A A G T G G T A C G C G C A G A G T C A C G T C C G T C C T T A C G T C T C G A A T G A A G T T T G A T C A A T G A C C G T T T T T T A T G T T T A A A A A A G C T A G C T G G A A C T C A A A T A A G T A A T G G C G T G T C A G A A A A T G G C G T G G A C A A T G G C G T G T A G G C A T T C A A A T G G C G T G C A A T G G C G T G A T G G A G A G A T A T A A T G G C G T G A A G C A A A T G G C G T G C G A C T C C T T G C C A A T G G C G T G A A T G G C G T G G T G T T C C A C G C A C G A G A C A A T A A T G G C G T G G T G G T A A T G G C G T G C G T G A A A A T A A T G G C G T G G T C C C G T G T C G G T G C A T C C C A T C G C A G C A A G A G T G A C A T A A C G C C G C T G C C A G C A T T A A A T G G C G T A A T G G C G T G G T G A G C A A T C G A A T G G C G T G G A T C C C A A C A A T G G C G T G C T G A A T G G C G T G T C G G C A A T G G C G T G C A C A A T G A A C T G C G A G A T T G A G G G T G A G T A T A G T C A G A A T A A T G G C G T G T G A C C C G A A T G G C G T G G G C G T G G A A T T C A T C C G T C A A T G G C G T G C A T A A T G G C G T G C A T T A A T G G C G T G T G G A C A T T T C C G T C C C A T T T C A T G T C T G A A T G G C G A A T G G C G T G C C A A C G T G G T G C T G T T T A G A T T G C A A T C C A T G C A A T G G C G T G C C C T T T A A T G G C G T G A G G T C C C A A A A T G G C G T G T C T A T A G G T A A G C C C T T A C A C T G G G G A C C T C A C C T C A A C A C G C T T T C T A T G C C T C A A A A G T T C C C G T G T G G G T C G A T A C A A T A A T T C G C A A T G T C A C C G G C G A C G T A G T A C A G T T A C A A G T C C A G T A A G A G A T A G A A C G A T A C A T G C T T G G G A G C A A T T C T C C C T C A T T C G C T A G A A A A C T G T T T T A G C A T A C G T A C A T C C G C T C C G T T A C G G C T A A T G T A A C T T G C C G C C C T G A A A A G C A T A C T C T G T G G C G C C A A C T T T A T A A A A A A A T A C G T T C T C G C C C T A A C C C G C C T T C C T C T G A A T T G C G T C A C G G A T C G T G A C A A T T G A C G C C G T A C C G G C C T A C C T G A T G G A T A A A A C G T C G A G G T C G C A A A C T C A A G G T G C A T G A C T G C C T T G T C A G G G C T C T A T C C G G T A C A C C A G C T A G G G T C A C T C T T T A C T C T G A G C T C T A C G G C C A T G G C C A T C G T A G T G G T G T A A C G A G G T C A T A C T A T A G T C A G A A G T G A C A G T C G T T A A T T A C G T C G C T A G A A C T T C T C T C A A T A A G T A G A G A A T A G T G G A C T G T T A T T T A G T T A A A T G G T C A G T T T A A G A G A A A T T G T A G C A C G G C T T G A C G C T A C G C A G C A T C A G A T C T A A T C C T A T A T A A A A G A A T C G A C C G A A G C T A C T A A C C G A C A T G C G A T T C C A C T A A C T T A A A G C T A G A C G T A A C C T C G A C A T G G G G T G G A A C G T A C C G T A A C T G T C G G A T T T C G C A C T T C T T A C G T T A T G T C G A C T G T C T T T T T A T T G C C C G A G C T A T T G C A A G G T T C T A A G A C T G A A T T G C T G C C G A T C G C T C G C T C A G T A T T T A G G G C A G G T G T G G C C C G T T A G C C C A G C C T C A C C T T T C C C G C C C T A A A A T A A T A A T G C A C T G C G T C T A G A G G C A C A G T G A T A T G A G T G T A G G A G A G A C A T C T A T T T C A A T A T G G T T G G A G G T A T A A G A A G A A T G C G A T T C A A G C C C G A T A G G C T C A G A G C C G G G T A T C G T C C T C G T G A A A T T C C C T T C A G G A T A A C G G C T T A T G T C A T G C A A G G G G C G T T A T A C A A T A T G A G T G G G T T T A T A C A A T T A T A C A A T A T A C A A T T T T G C G T C A C A C C C T T A T A C A A T T A T A C A A T A C A C T T A T A C A A T T T T A T A C A A T T T T A T A C A A T T G C T A C A A T C G G C A C T A T T T A T A C A A T A A T T G C C G C A C G C A A T T A T A C A A T C G C T G C T G A C C C C C A G T T A T A C A A T C G G T T G A A G G A G T T A T A C A A T T G G C C A A T T A T A C A A T C A A T T C T A G T T A T T T A T A C A A T C G A T G C A T C T G T T A T T T T C G T A T T C G T T A T A C A A T A T T A T A C A A T C T G T C A A G A G A T T G G C T A T T A T A C A A T T C C G T A T G A A T T G G T C G C T T A C T G T C T T T A T A C A A T T A T A C A A T T T A T T T A T A C A A T C T A T T A T A C A A T G C T A T A A T G G G C G T G T A A C G A G G C T T A T A C T T A T A C A A T T C C A C C A A G A G G C A T A A A T T A T A A C A C T C T C T A T C G A A C A C T C T C T A C A A C A A C A C T C T C T C G A C A C T C T C G A A A C G C T C G G A A A T T T A T A A C A C T C T C A A T A C A T C A G C C G G A C A C T C T C T A C A C A C T C T C T C A A T T T A T A C A A T C A A T C G A C T C T C G A T G C G A C A C T C T C C G C T T A A C T G C A T C A C G A A A A A C A A G A C A C T C T C T A C A C A C T C T C A C A C T C T C G C G C A C A C T C A C A C T C T C A C T A A C A C G T A C C A G G T C A T T C T A C A C T C T C A C A C T C T C A C T A G A T T G C G A T A C A C A C T C T C T C C C A C A C T C T C C G A C G C A T A C T T C G T G T T T A C A C T C T C A A C A C T C T C T A T G C A A T T C T C G G G C C T T C G A G C C G T A G T A T T C G A C T C G T C T A A G T T A C A C T C T C C C G C T C G G C T G C C A T C C G A C A C T C T C A G T A A T A A C A C T C T C A G C G C A C C A C A C T C T C A G G G T A A A A T A C A C T C T A C A C T C T C G A G A C C C C G A C A C T A C A C T C T C T C A T G C G G C T T C G C A C A C T C T C A G G A C A C T C T C T A A G C C T C C A G A C C T A C T G T A A C A C T C T C G G A C G A A T G C G C T G C A C T A C T T G C G C T G G C T G A T C G C T G G C G G G T G A T G A T G A G C G T C A A C C A G A T C T C C G T A A C G A A A T G A C T T T A T G C G T C C T A C G A A T A C T G C G A G C G C G G T T A T G T A G C G C G A G C G T G A C A T A C A G C G A A G T G G A A T T A G G A T T T C G A G T T T A T A T T G C C T T T T T C T C T T T A A T C C T G C T G G C T C C C A G C A G G A G G C C A C C A A A A G T G C T G A A G C G G T T A C C G C A C G A C G C A G C T T T A C A C G A G T T T C G G G G C A T T T C G A G T C T G T G G T A C G T C C T T A C C C T T A C A C A T G G G T C T C T A G G G A T C A T T C T C T C T A G G T T C T G A A T T T C G G C A A G G C T C T C T C T A G A T T A G T G A T C T C T A G A A T T G T G G T T A T C T C T A G G A G A T T C T C T A G T C A T C T C T A G C G A A A A G T C T C T A T C T C T A G T G A G T G G C T C T C T A G A A T G T C A A A C T A T A C A G T C A A G C C A A T T T T C G T C T C T A G C A G A C G T C T C T A G C C A T C G C A T C T C T A G G G C A C A G C A T G T T T T T G A A T C T C T A G T C T A G C G C G G A G C T T G A C A T G A A T C T C T A G A T G T A A T A G A T T C T C T C T C T A G T C T C T A G T G T T C C G G T G T G T G C T G T T T C A A T C T C T A G A T G T G T G C T A T C C A C C A C G G C T T G G A C T C T C T A G G C C C A A A A C T C T C T C T A G T T C T C T A T C T C T A G C A A T C T C T T C T C T A G A T C T C T A G C G T G C C C A A A A C C T C T C T A G C A A G C C C A A A A C A G C C C T T C T C T A A T T A C G C C A C T C A A T T A C G C C C A T A T T A C G C C G T C T A T T A C A T T A C G C C A G A T T A C A T T A C G C C C T C T A T T A C G C C A C T A C T T T G A A T T A C G C C G A T T A C G C C A A T T A C G C C A G C T T G C G A T T A C G C C T C G A T T A C G C C C G C A T T G T A T T A C A T T A C G C C A A C A G T T A T A A C A A A A G T T A T A A T T A T A A G T T A A T G T T A T A A G T T T G C G T T A T A A T T T G C C G G C C A T T A C G C C C C A G T T A G T T A T A A A A G C A T T A C G C C C C A A T T A C G C C A A A A G T T A T A A T A G C C A T T A C G C C C T C G A C C G T T A T A A C C A A A A C C A T T A C G C C A A A T T A T T A C G C C C C G C T G T T A T A A C C C A T T A C G C C T A T A A A T A G T T A T A A C A C A A A G T T A T A A A T T G T G T T A T A A A C G G C A T C C A T A C T G G A T T A A T T A C G C C T A T A A T C C C C G G T T A A T T A C G C C T A G C A T T A C G C C C A G C C C G A A T A T T G T T A A T T A C G C C A G T T A T A A T G A T T A C G A T T A C G C C G C C T G A T G T T A T A A A T G T T T T C T G A T G G T T A T T A C G C C T A T T A C G C C A G T T A T T A C G C C T T C T A T T G C G C C G T T A T A A C G G G C T G T T A T A A A C T G A T G T G T T C T G A T G T G T T A T A A G G C A A T A A G A C A C G G T T G C G G T C C A G T T A C G C A G C T T G G T T A T A A G A A C T A A C A C T A C G T C T G A T G T G C T G A T G T T A T A A A T G G G G G C C C T G A T G T A T A G G T G C T G A T G T C C C G C T C T G A T G T A T C C C T G A T G T C T G A T G T T G T T A A T A C C A G T G T A A T T G A G A C G G G C C G C C G A G A A G G G A T T T A G A G T G C A C T A C C T G A T C T G A T G T G G C T G A T G T T G T A T G A A A C G T T G C T G A T G T C A T G C A A T T C T G A T G T C C T A A G T C T G A T G T G A A C T A A A G G A C T G A T G T G A A G A C T G T T G G G C G T G T A A C G G G C G A T T G A G A C T A C C G G G G G T C T C T G A T G T A T G G T A G C T C G C G C T G A T G T C C T G A T G T C G G C A T C T G G G A A A T C T G A T G T G C G G T C C C G G T T G A C T G T G C C T A T T C C A G A A A C G G G G C G T T C A C G A G C G G C T T A C A C T A A T T A G A G T T G T A A G G C T G G A C G T T C T C G T G T G C G T A A A C T A T A C C C A T A T T C C T T C T A G A G C A G G T C G A T A T T A C A T G T T G T A A A G G G G C A G T A C T G A A C G A T G T A T T T G T C T T A T T C T G C A C T G C A G C G G T T A T A T T C T G C A T G A G C T A A C T G G C A T T T T A A A A A G A T T C T T G G T T T T A T T C T G C A T T C T G C A A G T G A A T T T A T T C T G C A T C C C G C A A T G G C T A T T C T G C A A T T C T G C A C C T A G"
     ]
    },
    {
     "name": "stdout",
     "output_type": "stream",
     "text": [
      " C G G T A G C G G G C A C T C A G C G A G A G G G C G T A T T C T G C A A T T C T G C A G G G T T A T C A C G A G G G A T G T G A A A T G G C C A C C A T C T A T T C T G C A T C T G C A A T A T T C T G C A G C C C A T T T A T A T T C T G C A A T A A G G G T T A T T T A T T C T G C A T T A G G G A C A T T G T G A C C T T C A C T A T T C T G C A A A C A A G A T T G T A T T C T G C A A C A T T G A C G G G A T T G G G A C T A T T C T G C A A A A T T T T T C A T G A T A T T C T G C A A G C T C C T T A C T C T G G T A T T C T G C A G C A G G G A G G G A G T C G T G A C T T A A A A A A G C T T C T A T T C T G C A T T C T G C A C A A C C A A A T A G C A A T C T T T A T T C T G C A T G C A A A T A T T C T G C A T T A C C A G T A T T C T G C A T G C A A T T C T G C A T T A T T C T G C A A T A G G T A G G G T T T T A A T G T G C A G T C T T T A G T A C C G T T G G C G G C A C T A C C T T C T C T C A T C G T T G G C T G A T G T A T G T C A T A T G A C A C C C G T C T G A G C A A A C A T G T G G T T G T G A A G G C G G C G G T A A T A A T T T A T G C T A A C C A C G A A A T G C G T A G A A C T A C T G G T A C C A A T G A G T G G A G C C C A C G A C T G G G C G G A C A G A G G A T A C T G C A G C C C G A G G T G A T G C C G G G G C A A A G C T G T C T A T C C C C C C T C A A C T G G A G C T T A C G C C C A A T G A A G C G G A C G G A A A G C T G C T T A G C C A T A C C G A T C G A A C C T G T T C A T A T C C T A A C C A G A A A G T T C G A C G T G A C A A A A C G T C G A A G A T C G C T C T A T T C C G A C T T C G G A G G T C G C T A T A A C A G G T C A A C C T T T T T T C A A C C T T T T T A C C C C C A A A C C T T T T T T C T T T T G C G G G C C C A A T G T G G C C C C T G T A T T A A C C T T T T T T G G T C A A C C T T T T T C G A A T C T T T C G A A C C T T T T T C A G A A C C C T T G T T A A T A A C C T T T T T G C T A C C C G C T G A C T C T C A A C C T T T T T T T T T A A C C T T T T T A A C C T T T T T G C A C C G A A A C C T T T T T A C C T T T T T C T A A C C T T T T T A A C C T T T T T G A A A A C C T T A A C C T T T T T T T T C G G T G A C G C C C A C G A A A C C T T T T T T A T A A A C C T T T T T T G A T C G T T T C G C C G T A A G A C T C T C T A A C C T T T T T G C A C G A T T C G A A G A A A C C T T T T T C T T A A C C T T T T T T T T T T C G C G T G G T G A G T C C T T C T G T A C A G A C C G T G A A A T C G C A A T T T C A A A C C T T T T T T G A G G A G G G T G T A A A C C T T T T T A C C T T T T T C T T A G C C A A T C T C G C C G T G C A C A G T A T A A C C T T T T T A T G A G T C G C G C A A T C G T C A A C C T T T T T T T A C T A C T G A T A C A A A C C T T C T G T T C C T C T T T C A G A G G C T T G T T G T A G G T A C T G T T C C T C C T C C G A C C T G T T C C T A A G T C C G A C A A G T C T G T T C C T C C C T G C T G T T C C T T C C T G A C A A G T C C G A C C T G T T C T G T T C C T G A C A A C T G T T C C T G T C C T G T T C C T G C T T T C C G A C A A G T C C C T G T T C C T T C C T G T C C G A C A A G T C T C C T G C T C C T G C T G T T C C T T C C G A C A A G T C C G A C A A G T C C T C C T G C T C C T T C C T A C A A G C T G T T C T C C T G C T G T C C G A T C C T G C T G C T T C T C C T G C T G A C A A G T C C G A C A T C C T G C T C C T G C T T T C C T A C A A C T G T T C C T C C T C T C C T C C T G C T C C T T C C T G C T T T C C T C T G T T C C T C T G T T C C T C T G T T C C T T C C T G C T T C C T G C T T C C T G C T T C C T G C T T C C T G C T T C C T G C T T C C T G T C T C C T G T C C T G C T G C T T C C T G C T T C C T G C T T C C T G T C C T G C T T C C T G C T T C C T G C T T C C T G C T G T T A G T A G T T A G T A G T T A G T A G T T A G T A G T T A G T A G T T A G T A G T T A G T A G T T A G T A G T T A G T A G T T A G T A G T T A G T A G T T A G T A G T T A G T A G T T A G T A G T T A G T A G T T A G T A G T T A G T A G T T A G T A G T T A G T A G T T A G T A G T T A G T A G T T A G T A G T T A G T A G T T A G T A G T T A G T A G T T A G T A G T T A G T A G T T A G T A G T T A G T A G T T A G T A G T T A G T A G T T A G T A G T T A G T A G T T A G T A G T T A G T A G T T A G T A G T T A G T A G T T A G T A\n"
     ]
    }
   ],
   "source": [
    "res = reverse_komplemen (dat)\n",
    "print(*res)"
   ]
  },
  {
   "cell_type": "markdown",
   "id": "e1710972",
   "metadata": {},
   "source": [
    "### 6. Buatlah fungsi feed-forward"
   ]
  },
  {
   "cell_type": "code",
   "execution_count": 17,
   "id": "5d63ae11",
   "metadata": {},
   "outputs": [],
   "source": [
    "import math # library yang digunakan "
   ]
  },
  {
   "cell_type": "code",
   "execution_count": 19,
   "id": "34a676a7",
   "metadata": {},
   "outputs": [],
   "source": [
    "#memdulkan setiap fungsi yang ada \n",
    "def aktivasi (x):\n",
    "    return 1/ (1+math.exp(-x))\n",
    "'''# untuk fungsi ini merupakan fungsi aktivasi yang telah ada pada soal yang dimana\n",
    "    kita hanya menuliskan saya, dengan parameternya adalah x'''\n",
    "\n",
    "def WTi(W,i): # Index yang tercantum dalam W digunakan didalam list\n",
    "    return list(map( lambda w:w[i] , W))\n",
    "\n",
    "def WT(W):\n",
    "    return list( map( lambda i : WTi(W,i) , range(len(W[0]))) )\n",
    "\n",
    "def XW(X,W):\n",
    "    return map( lambda w: reduce( lambda a,b:a+b ,map (lambda xx,ww: xx * ww , X,w),0) ,  WT(W) ) #memuat w ke layer pertama \n",
    "\n",
    "def input_to_hidden(X,W):\n",
    "    return list( map( lambda x:aktivasi(x) , XW(X,W) ))# menginput aktivasi tersembunyi\n",
    "\n",
    "def feed_forward(X,W,M):\n",
    "    return input_to_hidden(input_to_hidden(X,W),M)#membuat fungsi feed forward"
   ]
  },
  {
   "cell_type": "code",
   "execution_count": 20,
   "id": "f023147c",
   "metadata": {},
   "outputs": [],
   "source": [
    "\"\"\"pada bagian ini kita menentukan setiap nilai dari si x, w, dan m\"\"\"\n",
    "x= [9, 10, -1]\n",
    "w= [[0.5, 0.4], [0.3, 0.7], [0.25, 0.9]]\n",
    "m= [[0.34], [0.45]]"
   ]
  },
  {
   "cell_type": "code",
   "execution_count": 21,
   "id": "183bf5a0",
   "metadata": {},
   "outputs": [
    {
     "data": {
      "text/plain": [
       "'kita memanggil fungsi feed_forward, diaman Nilai yang masuk ke neuron di hidden layer\\nadalah penjumlahan antara perkalian weight dengan nilai yang masuk pada input neuron setelah itu diaktifkan dengan\\nfungsi aktivasi(yang tela dimodulkan di atas ). '"
      ]
     },
     "execution_count": 21,
     "metadata": {},
     "output_type": "execute_result"
    }
   ],
   "source": [
    "feed_forward(x, w, m) \n",
    "\"\"\"kita memanggil fungsi feed_forward, diaman Nilai yang masuk ke neuron di hidden layer\n",
    "adalah penjumlahan antara perkalian weight dengan nilai yang masuk pada input neuron setelah itu diaktifkan dengan\n",
    "fungsi aktivasi(yang tela dimodulkan di atas ). \"\"\""
   ]
  },
  {
   "cell_type": "code",
   "execution_count": 22,
   "id": "879d8569",
   "metadata": {},
   "outputs": [
    {
     "data": {
      "text/plain": [
       "[0.5, 0.3, 0.25]"
      ]
     },
     "execution_count": 22,
     "metadata": {},
     "output_type": "execute_result"
    }
   ],
   "source": [
    "WTi(w,0) # memanggiilfungsi WTI"
   ]
  },
  {
   "cell_type": "code",
   "execution_count": 23,
   "id": "4f8bd8a1",
   "metadata": {},
   "outputs": [
    {
     "data": {
      "text/plain": [
       "[[0.5, 0.3, 0.25], [0.4, 0.7, 0.9]]"
      ]
     },
     "execution_count": 23,
     "metadata": {},
     "output_type": "execute_result"
    }
   ],
   "source": [
    "WT(w) #Memanggil fungsi WT"
   ]
  },
  {
   "cell_type": "markdown",
   "id": "708f7761",
   "metadata": {},
   "source": [
    "# Kumpulan Latihan dan Pembahasan"
   ]
  },
  {
   "cell_type": "markdown",
   "id": "90ae8dfd",
   "metadata": {},
   "source": [
    "### Pertemuan 7 - Higher Order Function (Map)\n"
   ]
  },
  {
   "cell_type": "markdown",
   "id": "3fe57b89",
   "metadata": {},
   "source": [
    "1. Given List P = [‘a’, ‘k’,’u’, ‘l’ , ‘u’ , ‘p’ , ‘a’ ]\n",
    "We want to make list of tuples of P like this\n",
    "P’ = [ (1, ’a’ ) , (3, ‘k’), (5,’u’), (7,’l’ ) , (9,’u’), (11,’p’) , (13,’a’) ]"
   ]
  },
  {
   "cell_type": "code",
   "execution_count": 50,
   "id": "9772d65b",
   "metadata": {},
   "outputs": [
    {
     "name": "stdout",
     "output_type": "stream",
     "text": [
      "(1, 'a') (3, 'k') (5, 'u') (7, 'l') (9, 'u') (11, 'p') (13, 'a')\n"
     ]
    }
   ],
   "source": [
    "P = 'akulupa'\n",
    "print(*map(lambda p: (p[0]*2+1 , p[1]) , enumerate(P)))"
   ]
  },
  {
   "cell_type": "markdown",
   "id": "4e3fb137",
   "metadata": {},
   "source": [
    "2. Terdapat bilangan B\n",
    "B = 24\n",
    "Petakan B menjadi list faktor nya!\n",
    "B’ = [ 1,2,3,4,6,8,12,24]"
   ]
  },
  {
   "cell_type": "code",
   "execution_count": 52,
   "id": "d3c49da3",
   "metadata": {},
   "outputs": [
    {
     "name": "stdout",
     "output_type": "stream",
     "text": [
      "[1, 2, 3, 4, 6, 8, 12, 24]\n"
     ]
    }
   ],
   "source": [
    "B = 24\n",
    "two = map( lambda b: b+1 if B % (b+1) == 0 else -1, range(B))\n",
    "def dua(two):\n",
    "    x = []\n",
    "    for t in two:\n",
    "        if t != -1:\n",
    "             x.append(t)\n",
    "    return x\n",
    "print( dua(two))\n"
   ]
  },
  {
   "cell_type": "markdown",
   "id": "a4ab0ba8",
   "metadata": {},
   "source": [
    "3. Diketahui matriks A,B,C sebagai berikut\n",
    "A = [ [3 , 4] , [ 5, 6 ] ]\n",
    "B = [ [1,2] , [ 7 , 8] ]\n",
    "C = AB\n",
    "Buatlah program untuk menghitung determinan matriks C menggunakan HOF map!\n"
   ]
  },
  {
   "cell_type": "code",
   "execution_count": 53,
   "id": "9959256e",
   "metadata": {},
   "outputs": [
    {
     "name": "stdout",
     "output_type": "stream",
     "text": [
      "-16\n"
     ]
    }
   ],
   "source": [
    "A =[[3,4], [5,6]]\n",
    "B = [[1,2],[7,8]]\n",
    "C=list(map(lambda ra, rb:list(map(lambda raa,rbb: raa+rbb, ra, rb)), A, B))\n",
    "def dett (C):\n",
    "    return C[0][0]*C[1][1]-C[0][1]*C[1][0]\n",
    "print(dett(C))"
   ]
  },
  {
   "cell_type": "markdown",
   "id": "8e658253",
   "metadata": {},
   "source": [
    "### Pertemuan 9 Higher order Function Filter"
   ]
  },
  {
   "cell_type": "markdown",
   "id": "e2d7560e",
   "metadata": {},
   "source": [
    "Latihan filter, Buat program untuk menghitung deret bilangan prima dari 2 hingga N menggunakan HOF filter dan map\n",
    "\n",
    "Contoh primes(100):\n",
    "2 3 5 7 11 13 17 19 23 29 31 37 41 43 47 53 59 61 67 71 73 79 83 89 97\n"
   ]
  },
  {
   "cell_type": "code",
   "execution_count": 16,
   "id": "7a45b52e",
   "metadata": {},
   "outputs": [
    {
     "name": "stdout",
     "output_type": "stream",
     "text": [
      "2 3 5 7 11 13 17 19 23 29 31 37 41 43 47 53 59 61 67 71 73 79 83 89 97\n"
     ]
    }
   ],
   "source": [
    "# cara 1\n",
    "faktor = lambda n: list(filter(lambda i : n%i == 0, range (1, n+1)))\n",
    "primes  = lambda n: filter(lambda i: len (faktor(i))==2, range(1, n+1))\n",
    "print(* primes(100))"
   ]
  },
  {
   "cell_type": "code",
   "execution_count": 17,
   "id": "04082823",
   "metadata": {},
   "outputs": [
    {
     "name": "stdout",
     "output_type": "stream",
     "text": [
      "2 3 5 7 11 13 17 19 23 29 31 37 41 43 47 53 59 61 67 71 73 79 83 89 97\n"
     ]
    }
   ],
   "source": [
    "# cara 2\n",
    "L = lambda n: range(2, n)\n",
    "factor = lambda n: list(filter( lambda i: n%i == 0, L(n)))\n",
    "primes = lambda n: filter( lambda i : len(factor(i))==0, range(2,n+1))\n",
    "\n",
    "print(*primes(100))"
   ]
  },
  {
   "cell_type": "code",
   "execution_count": 18,
   "id": "57da166b",
   "metadata": {},
   "outputs": [
    {
     "name": "stdout",
     "output_type": "stream",
     "text": [
      "2 3 5 7 11 13 17 19 23 29 31 37 41 43 47 53 59 61 67 71 73 79 83 89 97\n"
     ]
    }
   ],
   "source": [
    "# cara 3\n",
    "L= lambda n: range(2, n)\n",
    "s_factor = lambda n: filter(lambda i : len(factor(i))==0, range (2, n+1))\n",
    "print (*primes(100))"
   ]
  },
  {
   "cell_type": "code",
   "execution_count": 22,
   "id": "d5f48f01",
   "metadata": {},
   "outputs": [
    {
     "name": "stdout",
     "output_type": "stream",
     "text": [
      "\n"
     ]
    }
   ],
   "source": [
    "# cara 4\n",
    "L = lambda n : range(2, round(n**0.5)+1)\n",
    "s_factors = lambda n: map(lambda i: i if n%i == 0 else 0, L(n))\n",
    "primes = lambda n: filter( lambda i: sum(s_factor(i))== 0, range (2, n+1))\n",
    "\n",
    "print(*primes(100))"
   ]
  },
  {
   "cell_type": "code",
   "execution_count": 23,
   "id": "ee28af54",
   "metadata": {},
   "outputs": [
    {
     "name": "stdout",
     "output_type": "stream",
     "text": [
      "2 3 5 7 11 13 17 19 23 29 31 37 41 43 47 53 59 61 67 71 73 79 83 89 97\n"
     ]
    }
   ],
   "source": [
    "s_factor = lambda n: map(lambda i: i if n%i==0 else 0, range (2, round(n**0.5)+1))\n",
    "gjl = lambda n : n%2!=0\n",
    "L = lambda n:filter( lambda i: sum(s_faktors(i))==0, L(n)) \n",
    "print(*primes(100))"
   ]
  },
  {
   "cell_type": "code",
   "execution_count": 24,
   "id": "73b2eec9",
   "metadata": {},
   "outputs": [
    {
     "name": "stdout",
     "output_type": "stream",
     "text": [
      "dict_items([('Nagao', 35), ('ishii', 30), ('Kazutomo', 20), ('Saito', 25), ('Hidemi', 29)])\n"
     ]
    }
   ],
   "source": [
    "#Latihan Filter\n",
    "employee= {'Nagao': 35,\n",
    "          'ishii': 30,\n",
    "          'Kazutomo':20,\n",
    "          'Saito': 25,\n",
    "          'Hidemi': 29}\n",
    "print(employee.items())"
   ]
  },
  {
   "cell_type": "code",
   "execution_count": 25,
   "id": "59af5f0e",
   "metadata": {},
   "outputs": [
    {
     "name": "stdout",
     "output_type": "stream",
     "text": [
      "Nagao ishii Hidemi\n"
     ]
    }
   ],
   "source": [
    "filter_by_age= lambda age, employe: list(filter(lambda x:x[1] > 25, employee.items()))\n",
    "print(*map(lambda d:d[0], filter_by_age(25, employee)))"
   ]
  },
  {
   "cell_type": "markdown",
   "id": "84168497",
   "metadata": {},
   "source": [
    "### Pertemuan  10 Higher Order Function - Reduce"
   ]
  },
  {
   "cell_type": "markdown",
   "id": "5119d249",
   "metadata": {},
   "source": [
    "1. Buat fungsi mencari jumlah bilangan genap dari list L!\n",
    "\n",
    "Contoh:\n",
    "L = [2,1,9,10,3,90,15]"
   ]
  },
  {
   "cell_type": "code",
   "execution_count": 41,
   "id": "a17a82d6",
   "metadata": {},
   "outputs": [
    {
     "data": {
      "text/plain": [
       "3"
      ]
     },
     "execution_count": 41,
     "metadata": {},
     "output_type": "execute_result"
    }
   ],
   "source": [
    "L= [2, 1, 9, 10, 11, 90, 3, 15]\n",
    "r(lambda a, b: a+ (1 if b % 2 == 0 else 0), L, 0)"
   ]
  },
  {
   "cell_type": "markdown",
   "id": "b98d8edd",
   "metadata": {},
   "source": [
    "2. Buat fungsi untuk menghitung n! Menggunakan reduce!"
   ]
  },
  {
   "cell_type": "code",
   "execution_count": 54,
   "id": "c6456843",
   "metadata": {},
   "outputs": [
    {
     "name": "stdout",
     "output_type": "stream",
     "text": [
      "0!= 1\n",
      "1!= 1\n",
      "2!= 2\n",
      "3!= 6\n",
      "4!= 24\n",
      "5!= 120\n",
      "6!= 720\n",
      "7!= 5040\n",
      "8!= 40320\n",
      "9!= 362880\n",
      "10!= 3628800\n"
     ]
    }
   ],
   "source": [
    "facto = lambda n: r(lambda a,b: a*b if b>1 else 1, range(1, n+1), 1)\n",
    "for i in range(10+1):\n",
    "    print( str(i) + '!=', facto(i) )\n"
   ]
  },
  {
   "cell_type": "code",
   "execution_count": 42,
   "id": "67145c19",
   "metadata": {},
   "outputs": [
    {
     "name": "stdout",
     "output_type": "stream",
     "text": [
      "24\n"
     ]
    }
   ],
   "source": [
    "from functools import reduce \n",
    "n= 4\n",
    "print(reduce(lambda x, y: x*y, range(1, n+1)))"
   ]
  },
  {
   "cell_type": "markdown",
   "id": "dd3e297c",
   "metadata": {},
   "source": [
    "3. Hitung euclidian distance dari dua vektor berikut menggunakan higher order\n",
    "function!\n",
    "X = [2,5,6,7,10]\n",
    "Y = [-2,9,2,-1,10]"
   ]
  },
  {
   "cell_type": "code",
   "execution_count": 44,
   "id": "5d20ceb3",
   "metadata": {},
   "outputs": [
    {
     "data": {
      "text/plain": [
       "10.583005244258363"
      ]
     },
     "execution_count": 44,
     "metadata": {},
     "output_type": "execute_result"
    }
   ],
   "source": [
    "X = [2,5,6,7,10] \n",
    "Y = [-2,9,2,-1,10]\n",
    "\n",
    "eclid = lambda X, Y: r(lambda a, c: a+c, map(lambda x, y: (x-y)**2, X, Y))**0.5\n",
    "eclid(X,Y)"
   ]
  },
  {
   "cell_type": "markdown",
   "id": "e7cb013b",
   "metadata": {},
   "source": [
    "4. Terdapat dictionary employee berisi nama dan umur pegawai, lakukan reduce untuk mengetahui\n",
    "berapa jumlah pegawai yang berumur > 25 tahun !\n",
    "employee = {\n",
    "'Nagao':35,\n",
    "'Ishii':30,\n",
    "'Kazutomo':20,\n",
    "'Saito':25,\n",
    "'Hidemi':29\n",
    "}"
   ]
  },
  {
   "cell_type": "code",
   "execution_count": 48,
   "id": "ef0c130b",
   "metadata": {},
   "outputs": [
    {
     "data": {
      "text/plain": [
       "3"
      ]
     },
     "execution_count": 48,
     "metadata": {},
     "output_type": "execute_result"
    }
   ],
   "source": [
    "#Latihan Filter\n",
    "employee= {'Nagao': 35,\n",
    "          'ishii': 30,\n",
    "          'Kazutomo':20,\n",
    "          'Saito': 25,\n",
    "          'Hidemi': 29}\n",
    "\n",
    "cnt_emp = lambda lim, employee: r(lambda a, b:a+1 if b[1] > lim else a, employee.items(),0)\n",
    "cnt_emp(25, employee)"
   ]
  },
  {
   "cell_type": "markdown",
   "id": "89712992",
   "metadata": {},
   "source": [
    "5. Buatlah deret fibonacci menggunakan higher order function!"
   ]
  },
  {
   "cell_type": "code",
   "execution_count": 3,
   "id": "077fd86c",
   "metadata": {},
   "outputs": [],
   "source": [
    "# NO Recursive menggunakan reduce\n",
    "fibo = lambda n : r(lambda a, b: a if b[0] <=1 else a + [a [ b[0]-1] + a[ b[0] -2 ]], \n",
    "enumerate( [0,1] + list(range(1, n) )), [0,1]) if n>0 else[0]"
   ]
  },
  {
   "cell_type": "code",
   "execution_count": 7,
   "id": "1b13c4cd",
   "metadata": {},
   "outputs": [
    {
     "name": "stdout",
     "output_type": "stream",
     "text": [
      "Fibonacci 0 -> [0]\n",
      "Fibonacci 1 -> [0, 1]\n",
      "Fibonacci 2 -> [0, 1, 1]\n",
      "Fibonacci 3 -> [0, 1, 1, 2]\n",
      "Fibonacci 4 -> [0, 1, 1, 2, 3]\n",
      "Fibonacci 5 -> [0, 1, 1, 2, 3, 5]\n",
      "Fibonacci 6 -> [0, 1, 1, 2, 3, 5, 8]\n",
      "Fibonacci 7 -> [0, 1, 1, 2, 3, 5, 8, 13]\n",
      "Fibonacci 8 -> [0, 1, 1, 2, 3, 5, 8, 13, 21]\n",
      "Fibonacci 9 -> [0, 1, 1, 2, 3, 5, 8, 13, 21, 34]\n",
      "Fibonacci 10 -> [0, 1, 1, 2, 3, 5, 8, 13, 21, 34, 55]\n",
      "Fibonacci 11 -> [0, 1, 1, 2, 3, 5, 8, 13, 21, 34, 55, 89]\n",
      "Fibonacci 12 -> [0, 1, 1, 2, 3, 5, 8, 13, 21, 34, 55, 89, 144]\n",
      "Fibonacci 13 -> [0, 1, 1, 2, 3, 5, 8, 13, 21, 34, 55, 89, 144, 233]\n",
      "Fibonacci 14 -> [0, 1, 1, 2, 3, 5, 8, 13, 21, 34, 55, 89, 144, 233, 377]\n",
      "Fibonacci 15 -> [0, 1, 1, 2, 3, 5, 8, 13, 21, 34, 55, 89, 144, 233, 377, 610]\n",
      "Fibonacci 16 -> [0, 1, 1, 2, 3, 5, 8, 13, 21, 34, 55, 89, 144, 233, 377, 610, 987]\n",
      "Fibonacci 17 -> [0, 1, 1, 2, 3, 5, 8, 13, 21, 34, 55, 89, 144, 233, 377, 610, 987, 1597]\n",
      "Fibonacci 18 -> [0, 1, 1, 2, 3, 5, 8, 13, 21, 34, 55, 89, 144, 233, 377, 610, 987, 1597, 2584]\n",
      "Fibonacci 19 -> [0, 1, 1, 2, 3, 5, 8, 13, 21, 34, 55, 89, 144, 233, 377, 610, 987, 1597, 2584, 4181]\n"
     ]
    }
   ],
   "source": [
    "for i in range(20):\n",
    "    print( 'Fibonacci', i, '->', fibo(i))"
   ]
  },
  {
   "cell_type": "code",
   "execution_count": 8,
   "id": "8803f37e",
   "metadata": {},
   "outputs": [
    {
     "data": {
      "text/plain": [
       "[0, 1, 1, 2, 3, 5, 8, 13, 21, 34, 55]"
      ]
     },
     "execution_count": 8,
     "metadata": {},
     "output_type": "execute_result"
    }
   ],
   "source": [
    "fibo(10)"
   ]
  },
  {
   "cell_type": "code",
   "execution_count": 1,
   "id": "c2f8d873",
   "metadata": {},
   "outputs": [],
   "source": [
    "# dengan menggunakan rekursive\n",
    "fibo_rec = lambda n: 0 if n ==0 else 1 if (n==1 or n==2) else fibo_rec(n_1) + fibo_rec(n-2)"
   ]
  },
  {
   "cell_type": "markdown",
   "id": "0d4c2f74",
   "metadata": {},
   "source": [
    "### Pertemuan  11 Recursionin FP"
   ]
  },
  {
   "cell_type": "code",
   "execution_count": 39,
   "id": "88e09b52",
   "metadata": {},
   "outputs": [
    {
     "name": "stdout",
     "output_type": "stream",
     "text": [
      "The factorial of 3 is 6\n"
     ]
    }
   ],
   "source": [
    "#contohh\n",
    "def factorial(x):\n",
    "    if x == 1:\n",
    "        return 1\n",
    "    else:\n",
    "        return (x * factorial(x-1))\n",
    "num = 3\n",
    "print(\"The factorial of\", num, \"is\", factorial(num))"
   ]
  },
  {
   "cell_type": "code",
   "execution_count": 40,
   "id": "51a32cec",
   "metadata": {},
   "outputs": [
    {
     "name": "stdout",
     "output_type": "stream",
     "text": [
      "24\n"
     ]
    }
   ],
   "source": [
    "# Recursive Lambda\n",
    "lambda_factorial = lambda i:1 if i==0 else i*lambda_factorial(i-1)\n",
    "\n",
    "print(lambda_factorial(4))"
   ]
  },
  {
   "cell_type": "markdown",
   "id": "1bc18b42",
   "metadata": {},
   "source": [
    "1.Buat sebuah program untuk membuat deret fibonacci dari 0 hingga N dengan menggunakan fungsi non-rekursif dan rekursif!\n",
    "Bandingkan keduanya jika nilai N = 500, Manakah yang lebih baik? Jelaskan!"
   ]
  },
  {
   "cell_type": "code",
   "execution_count": 55,
   "id": "e6393509",
   "metadata": {},
   "outputs": [
    {
     "data": {
      "text/plain": [
       "[0, 1, 1, 2, 3, 5, 8, 13, 21, 34, 55]"
      ]
     },
     "execution_count": 55,
     "metadata": {},
     "output_type": "execute_result"
    }
   ],
   "source": [
    "fibo_rec = lambda n: 0 if n==0 else 1 if (n==1 or n==2) else fibo_rec(n-1) + fibo_rec(n-2)\n",
    "deret_fibo_rec = lambda n: list( map(lambda i: fibo_rec(i), range(n+1)))\n",
    "deret_fibo_rec(10)"
   ]
  },
  {
   "cell_type": "raw",
   "id": "2eeb0b1e",
   "metadata": {},
   "source": [
    "Jadi kesimpulannya dalam membuat fibonacci, lebih baik menggunakan non recursive terlihat dari hasil running yang lebih\n",
    "cepat\n"
   ]
  },
  {
   "cell_type": "markdown",
   "id": "3215acaa",
   "metadata": {},
   "source": [
    "### Pertemuan  12 Purity and Immutabillity"
   ]
  },
  {
   "cell_type": "code",
   "execution_count": 43,
   "id": "69b2b3ea",
   "metadata": {},
   "outputs": [],
   "source": [
    "# Contoh pure function\n",
    "def min(x, y):\n",
    "    if x < y:\n",
    "        return x\n",
    "    else:\n",
    "        return y"
   ]
  },
  {
   "cell_type": "code",
   "execution_count": 46,
   "id": "ffca1593",
   "metadata": {},
   "outputs": [],
   "source": [
    "# Contoh yang bukan pure function\n",
    "def pows(L):\n",
    "    for i in range(len(L)):\n",
    "        L[i] = L[i]**exponent\n",
    "    return L"
   ]
  },
  {
   "cell_type": "code",
   "execution_count": 48,
   "id": "09953e23",
   "metadata": {},
   "outputs": [
    {
     "name": "stdout",
     "output_type": "stream",
     "text": [
      "pows(L):  [1, 4, 9, 16, 25]\n",
      "L :  [1, 4, 9, 16, 25]\n",
      "Res:  [1, 16, 81, 256, 625]\n",
      "L: [1, 16, 81, 256, 625]\n"
     ]
    }
   ],
   "source": [
    "# mengubah menjadi pure function \n",
    "exponent = 2\n",
    "L = [1,2,3,4,5]\n",
    "print( 'pows(L): ' , pows( L ) )\n",
    "print( 'L : ' , L )\n",
    "Res = pows( L )\n",
    "print( 'Res: ', Res )\n",
    "print( 'L:' ,L )\n"
   ]
  },
  {
   "cell_type": "markdown",
   "id": "a418cbeb",
   "metadata": {},
   "source": [
    "1. Ubah fungsiku menjadi pure function!"
   ]
  },
  {
   "cell_type": "code",
   "execution_count": 9,
   "id": "34a56531",
   "metadata": {},
   "outputs": [],
   "source": [
    "def fungsiku(L):\n",
    "    def check_genap(l):\n",
    "        return l% 2 == 0\n",
    "    for i in range (len(L)):\n",
    "        if check_genap(L[i]):\n",
    "            L[i] = L[i]/2\n",
    "        else:\n",
    "            L[i] = L[i] * n +1\n",
    "    return L"
   ]
  },
  {
   "cell_type": "code",
   "execution_count": 10,
   "id": "8c3cfc4d",
   "metadata": {},
   "outputs": [
    {
     "name": "stdout",
     "output_type": "stream",
     "text": [
      "[10, 16, 22, 4.0]\n"
     ]
    }
   ],
   "source": [
    "n = 3\n",
    "L = [3, 5, 7, 8]\n",
    "print (fungsiku(L))"
   ]
  },
  {
   "cell_type": "code",
   "execution_count": 11,
   "id": "e13d2274",
   "metadata": {},
   "outputs": [
    {
     "name": "stdout",
     "output_type": "stream",
     "text": [
      "[10, 16, 22, 4.0]\n"
     ]
    }
   ],
   "source": [
    "print(L)"
   ]
  },
  {
   "cell_type": "markdown",
   "id": "d7b9be42",
   "metadata": {},
   "source": [
    "2. Ubah fungsiku2 menjadi Pure function"
   ]
  },
  {
   "cell_type": "code",
   "execution_count": 12,
   "id": "203a582f",
   "metadata": {},
   "outputs": [],
   "source": [
    "def fungsiku2(L):\n",
    "    def check_faktor(l):\n",
    "        return l% n == 0\n",
    "    for i in range (len(L)):\n",
    "        if check_faktor(L[i]):\n",
    "            L[i] = L[i]/2\n",
    "        else:\n",
    "            L[i] = L[i] * n+1\n",
    "    return L"
   ]
  },
  {
   "cell_type": "code",
   "execution_count": 13,
   "id": "0ec87561",
   "metadata": {},
   "outputs": [
    {
     "name": "stdout",
     "output_type": "stream",
     "text": [
      "[16, 3.0, 22, 25]\n",
      "[16, 3.0, 22, 25]\n"
     ]
    }
   ],
   "source": [
    "n= 3\n",
    "L= [5, 6, 7, 8]\n",
    "print(list(fungsiku2(L)))\n",
    "print(L)"
   ]
  },
  {
   "cell_type": "markdown",
   "id": "a5846532",
   "metadata": {},
   "source": [
    "3. Apakah isi dalam tupel tup ada yang\n",
    "dapat diubah?\n",
    "tup = ([3, 4, 5], 'myname')"
   ]
  },
  {
   "cell_type": "code",
   "execution_count": 57,
   "id": "b9c0e432",
   "metadata": {},
   "outputs": [
    {
     "ename": "TypeError",
     "evalue": "'tuple' object does not support item assignment",
     "output_type": "error",
     "traceback": [
      "\u001b[1;31m---------------------------------------------------------------------------\u001b[0m",
      "\u001b[1;31mTypeError\u001b[0m                                 Traceback (most recent call last)",
      "\u001b[1;32m~\\AppData\\Local\\Temp/ipykernel_6500/899989142.py\u001b[0m in \u001b[0;36m<module>\u001b[1;34m\u001b[0m\n\u001b[0;32m      1\u001b[0m \u001b[0mtup\u001b[0m \u001b[1;33m=\u001b[0m \u001b[1;33m(\u001b[0m\u001b[1;33m[\u001b[0m\u001b[1;36m3\u001b[0m\u001b[1;33m,\u001b[0m \u001b[1;36m4\u001b[0m\u001b[1;33m,\u001b[0m \u001b[1;36m5\u001b[0m\u001b[1;33m]\u001b[0m\u001b[1;33m,\u001b[0m \u001b[1;34m'myname'\u001b[0m\u001b[1;33m)\u001b[0m\u001b[1;33m\u001b[0m\u001b[1;33m\u001b[0m\u001b[0m\n\u001b[1;32m----> 2\u001b[1;33m \u001b[0mtup\u001b[0m\u001b[1;33m[\u001b[0m\u001b[1;36m0\u001b[0m\u001b[1;33m]\u001b[0m\u001b[1;33m=\u001b[0m\u001b[1;33m[\u001b[0m\u001b[1;36m3\u001b[0m\u001b[1;33m,\u001b[0m\u001b[1;36m2\u001b[0m\u001b[1;33m,\u001b[0m\u001b[1;36m3\u001b[0m\u001b[1;33m]\u001b[0m\u001b[1;33m\u001b[0m\u001b[1;33m\u001b[0m\u001b[0m\n\u001b[0m\u001b[0;32m      3\u001b[0m \u001b[0mprint\u001b[0m\u001b[1;33m(\u001b[0m\u001b[1;34m\"tup 2 :\"\u001b[0m\u001b[1;33m,\u001b[0m \u001b[0mtup\u001b[0m\u001b[1;33m)\u001b[0m\u001b[1;33m\u001b[0m\u001b[1;33m\u001b[0m\u001b[0m\n",
      "\u001b[1;31mTypeError\u001b[0m: 'tuple' object does not support item assignment"
     ]
    }
   ],
   "source": [
    "tup = ([3, 4, 5], 'myname')\n",
    "tup[0]=[3,2,3]\n",
    "print(\"tup 2 :\", tup)"
   ]
  },
  {
   "cell_type": "markdown",
   "id": "e90e3ed8",
   "metadata": {},
   "source": [
    "kesimpulan: type data tuple tidak dapat di ubah datanya, kecuali langsung mengubah dari fungsinya/kodenya"
   ]
  },
  {
   "cell_type": "markdown",
   "id": "62869154",
   "metadata": {},
   "source": [
    "### Pertemuan 13 Function Building Function"
   ]
  },
  {
   "cell_type": "markdown",
   "id": "575a0154",
   "metadata": {},
   "source": [
    "Addku = lambda x: x + 10\n",
    "Powku = lambda x: x**2\n",
    "Kurku = lambda x: x - 2 * x\n",
    "\n",
    "a. Buatlah fungsi komposisi menggunakan 3 fungsi diatas yang melakukan hal sebagai berikut secara\n",
    "berurut:\n",
    "1. Menjumlahkan input dengan nilai 10\n",
    "2. Mengurangi input dengan 2 kali input nya\n",
    "3. Mengeluarkan nilai kuadrat dari input nya\n",
    "\n",
    "B. Buatlah fungsi invers nya!"
   ]
  },
  {
   "cell_type": "code",
   "execution_count": 15,
   "id": "5fd3db67",
   "metadata": {},
   "outputs": [
    {
     "data": {
      "text/plain": [
       "-400"
      ]
     },
     "execution_count": 15,
     "metadata": {},
     "output_type": "execute_result"
    }
   ],
   "source": [
    "#a. fungsi komposisi\n",
    "addku = lambda x:x +10\n",
    "powku = lambda x: x**2\n",
    "kurku = lambda x: x - 2 * x\n",
    "\n",
    "f_com= lambda f, g: lambda x: f(g(x))\n",
    "my_f_com = f_com(kurku, f_com(powku, addku))\n",
    "\n",
    "my_f_com(10)"
   ]
  },
  {
   "cell_type": "code",
   "execution_count": 16,
   "id": "91ae0e37",
   "metadata": {},
   "outputs": [
    {
     "data": {
      "text/plain": [
       "40010"
      ]
     },
     "execution_count": 16,
     "metadata": {},
     "output_type": "execute_result"
    }
   ],
   "source": [
    "#b. fungsi invers\n",
    "inv_addku = lambda x:x +10\n",
    "inv_powku = lambda x: x**2\n",
    "inv_kurku = lambda x: x - 2 * x\n",
    "\n",
    "my_f_kom_inv= f_com(inv_addku, f_com(inv_powku, inv_kurku))\n",
    "my_f_kom_inv(-200)"
   ]
  },
  {
   "cell_type": "code",
   "execution_count": 50,
   "id": "353a4cbf",
   "metadata": {},
   "outputs": [],
   "source": [
    "Latihan Penentuan UKT Mahasiswa\n",
    "\n",
    "Universitas di Lampung ITARE, ingin memiliki sistem penentuan golongan UKT dan\n",
    "jumlah biaya UKT yang dibayarkan oleh Mahasiswa berdasarkan Kriteria berikut:\n",
    "    \n",
    "1. Jumlah tanggungan\n",
    "2. Jumlah token listrik selama 3 bulan terakhir\n",
    "3. Gaji Orang tua / Penanggung jawab\n",
    "4. Penerima program KIP-K atau bukan\n",
    "\n",
    "1. Ketentuan Jumlah Tanggungan :\n",
    "Jika lebih >= 5, maka skor = 1\n",
    "Jika < 5 , maka skor = 5 - jumlah tanggungan\n",
    "\n",
    "2. Ketentuan token listrik:\n",
    "Jika rata-rata lebih dari 100 ribu per bulan , maka skor = 3\n",
    "Jika diantara 50 ribu - 100 ribu per bulan , maka skor = 2\n",
    "Jika dibawah 50 ribu , maka skor = 1\n",
    "\n",
    "3. Ketentuan Gaji :\n",
    "Jika gaji penanggung jawab > 10 juta maka skor = 7\n",
    "Jika 8 < gaji <= 10 juta, maka skor = 6\n",
    "Jika 6 < gaji <= 8 juta , maka skor = 5\n",
    "Jika 4 < gaji <= 6 juta , maka skor = 4\n",
    "Jika 3< gaji <= 4 juta , maka skor = 3\n",
    "Jika gaji < 3 juta , maka skor = 2\n",
    "\n",
    "4. Jika mahasiswa memiliki KIP-K , maka skor = 1, jika tidak maka skor = 5 \n",
    "Skor_total = 20 % * skor_1 + 30 % * skor_2 + 20% skor_3 + 30% skor_4\n",
    "Jumlah bayar UKT = biaya pokok + skor_total * 500 ribu\n",
    "Uang Pokok = 750 ribu\n",
    "\n",
    "Gunakan fungsi komposisi untuk menyelesaikan masalah tersebut!\n",
    "Hitung berapa biaya UKT yang harus dibayarkan dengan input sebagai berikut:\n",
    "1. Jumlah tanggungan = 3\n",
    "2. Listrik 3 bulan terakhir = 120 ribu , 75 ribu , 50 ribu\n",
    "3. Gaji Penanggung jawab = 5.5 juta per bulan\n",
    "4. Peserta KIP-K = Tidak\n"
   ]
  },
  {
   "cell_type": "code",
   "execution_count": 22,
   "id": "86b6680f",
   "metadata": {},
   "outputs": [],
   "source": [
    "from functools import reduce as r\n",
    "\n",
    "mycompose = lambda * funcs: r( lambda f, g:lambda x:f(g(x)), reversed(funcs), lambda x:x)"
   ]
  },
  {
   "cell_type": "code",
   "execution_count": 23,
   "id": "37389f60",
   "metadata": {},
   "outputs": [],
   "source": [
    "# ketentuan jumlah tanggungan\n",
    "def skor1(jtg):\n",
    "    return 1 if jtg >= 5 else 5-jtg"
   ]
  },
  {
   "cell_type": "code",
   "execution_count": 24,
   "id": "2bbfbf55",
   "metadata": {},
   "outputs": [],
   "source": [
    "# ketentuan token listrik\n",
    "def skor2(X):\n",
    "    def rata(X):\n",
    "        return sum(X) / len(X)\n",
    "\n",
    "    def l_cond_1(X):\n",
    "        return [X, [X > 100000] ]\n",
    "\n",
    "    def l_cond_2(X):\n",
    "        return [X[0], X[1] + [ X[0] >= 50000] ]\n",
    "\n",
    "    def to_score2(X):\n",
    "        return r( lambda a,b: a + (1 if b==True else 0), X[1], 1)\n",
    "\n",
    "    compose_cond = mycompose(rata, l_cond_1, l_cond_2, to_score2)\n",
    "    return compose_cond(X)"
   ]
  },
  {
   "cell_type": "code",
   "execution_count": 25,
   "id": "3b644ae4",
   "metadata": {},
   "outputs": [],
   "source": [
    "# ketentuan gaji\n",
    "def con_1(X):\n",
    "    return [X[0], 1, X[2], [ X[0] > X[2] [X[1] ] ] ]\n",
    "\n",
    "def con_2_to_n(X):\n",
    "    return [X[0], X[1] + 1, X[2], X[3] + [X[0] > X[2] [X[1]] ]]\n",
    "\n",
    "def to_score(X):\n",
    "    return r( lambda a,b: a + (1 if b==True else 0), X[-1], 2)\n",
    "\n",
    "def prep(gj):\n",
    "    return [gj, 0, list(map( lambda x: x*1000000, list(range(10,3,-2)) + [3]) )]\n",
    "\n",
    "def skor3(gaji):\n",
    "    commpy = mycompose(prep, con_1, *(con_2_to_n for i in range(4)), to_score )\n",
    "    return commpy(gaji)"
   ]
  },
  {
   "cell_type": "code",
   "execution_count": 26,
   "id": "7e2c1f39",
   "metadata": {},
   "outputs": [],
   "source": [
    "# ketentuan KIP-K\n",
    "def skor4(X=True):\n",
    "    return 1 if X else 5"
   ]
  },
  {
   "cell_type": "code",
   "execution_count": 27,
   "id": "b3afecd8",
   "metadata": {},
   "outputs": [],
   "source": [
    "def combineskor(X):\n",
    "    return X + [map(lambda f,x: f(x), X[1], X[0] )]\n",
    "\n",
    "def boboti(X):\n",
    "    return r( lambda a,b:a+b, map(lambda x,y:x*y, X[-1], [0.2, 0.3, 0.2, 0.3]) )\n",
    "\n",
    "def toUKT(X):\n",
    "    return 750000 + X*500000"
   ]
  },
  {
   "cell_type": "code",
   "execution_count": 28,
   "id": "0940c8cf",
   "metadata": {},
   "outputs": [
    {
     "data": {
      "text/plain": [
       "2.4"
      ]
     },
     "execution_count": 28,
     "metadata": {},
     "output_type": "execute_result"
    }
   ],
   "source": [
    "mhs = [3,\n",
    "     [120000, 75000, 50000],\n",
    "     5.5 * 10**6,\n",
    "     False\n",
    "    ]\n",
    "\n",
    "datas = [mhs, [skor1, skor2, skor3, skor4] ]\n",
    "compose_fin = mycompose(combineskor, boboti, toUKT)\n",
    "compose_fin(datas) /10**6"
   ]
  },
  {
   "cell_type": "raw",
   "id": "2053eb32",
   "metadata": {},
   "source": [
    "Turunan Polinom\n",
    "Contoh input: \"-3x^5 + 2x^2 + 4x + 5\"\n",
    "    \n",
    "output : \" 15.0x^4 + 4x -4 \"\n"
   ]
  },
  {
   "cell_type": "code",
   "execution_count": 15,
   "id": "cbe5bee3",
   "metadata": {},
   "outputs": [],
   "source": [
    "#Turunan Polinom\n",
    "\n",
    "def splt(dat):\n",
    "    return dat.replace(' ','').replace('-','+-').split('+')\n",
    "\n",
    "def chdepan(dat):\n",
    "    return dat[1:] if dat [0]=='' else dat\n",
    "\n",
    "def eqkan(dat):\n",
    "    return map(lambda x: x if '^' in x else x+ '^1' if 'x' in x else 'x^0', dat)\n",
    "\n",
    "def toarr2d(dat):\n",
    "    return r(lambda a,b:a + [ [ float(hurf) for hurf in b.split ('x^')] ], dat,[])\n",
    "\n",
    "def sortdesc(dat):\n",
    "    return sorted(dat,key = lambda x:x[1], reverse=True)\n",
    "\n",
    "def calctur(dat):\n",
    "    return map( lambda x: [0,0] if x[1]==0 else  [ x[1] * x[0], x [1]-1 ], dat)\n",
    "\n",
    "def tostr(dat):\n",
    "    return map(lambda x: '0' if x[0]==0 else str(x[0]) if x[1]==0 else str(x[0]) + 'x' if x[1]==1 else str(x[0]) +'x^' + str(int(x[1])))\n",
    "\n",
    "def prettykan(dat):\n",
    "    return r (lambda a,b : a+'+' + b if b != '0' else a, dat, '')\n",
    "\n",
    "def prettysign(dat):\n",
    "    return dat.replace('+-', ' -'). replace('+', '+')"
   ]
  },
  {
   "cell_type": "code",
   "execution_count": 17,
   "id": "f6c17b7d",
   "metadata": {},
   "outputs": [],
   "source": [
    "dat = '-3x^5 + 2x^2 - 4x + 5'\n",
    "fss = (splt,chdepan,eqkan,toarr2d,sortdesc,calctur,tostr,prettykan,prettysign)\n",
    "my_turunan = mycompose(*fss)"
   ]
  },
  {
   "cell_type": "code",
   "execution_count": 16,
   "id": "02594fc0",
   "metadata": {},
   "outputs": [
    {
     "data": {
      "text/plain": [
       "['', '-3x^5', '2x^2', '-4x', '5']"
      ]
     },
     "execution_count": 16,
     "metadata": {},
     "output_type": "execute_result"
    }
   ],
   "source": [
    "splt(dat)"
   ]
  },
  {
   "cell_type": "markdown",
   "id": "4a9f9ffb",
   "metadata": {},
   "source": [
    "c. Buatlah fungsi untuk menghitung biaya yang harus dibayar customer pada suatu\n",
    "e-commerce menggunakan higher order function. Buatlah decorator untuk\n",
    "mengeluarkan harga sebelum pajak dan sesudah pajak (pajak = 11%) ! Gunakan\n",
    "decorator untuk menambahkan perhitungan waktu eksekusi!"
   ]
  },
  {
   "cell_type": "code",
   "execution_count": 64,
   "id": "66ff66a5",
   "metadata": {},
   "outputs": [],
   "source": [
    "from functools import reduce as r\n",
    "\n",
    "keranjang = [\n",
    " {'Jumlah_Barang': 5, 'Harga': 10},\n",
    " {'Jumlah_Barang': 7, 'Harga': 20},\n",
    " {'Jumlah_Barang': 20, 'Harga': 4.5}\n",
    "]\n",
    "def pajak_decorator(func):\n",
    "    def inner(*args, **kwargs):\n",
    "        res = func(*args, **kwargs)\n",
    "        print('Sub Total: ', res)\n",
    "        print('Pajak: ', res * 0.11)\n",
    "        print('Total: ', res + res * 0.11)\n",
    "        return res\n",
    "    return inner\n",
    "    \n",
    "import time\n",
    "\n",
    "def calc_time_decorator(fu):\n",
    "    def inner(*args, **kwargs):\n",
    "        waktu_awal = time.time()\n",
    "        res = fu(*args, **kwargs)\n",
    "        waktu_akhir = time.time()\n",
    "        print('Waktu eksekusi: ', waktu_akhir - waktu_awal)\n",
    "        return res\n",
    "    return inner"
   ]
  },
  {
   "cell_type": "code",
   "execution_count": 65,
   "id": "60f9a041",
   "metadata": {},
   "outputs": [
    {
     "name": "stdout",
     "output_type": "stream",
     "text": [
      "Sub Total:  280.0\n",
      "Pajak:  30.8\n",
      "Total:  310.8\n",
      "Waktu eksekusi:  0.0010008811950683594\n"
     ]
    },
    {
     "data": {
      "text/plain": [
       "280.0"
      ]
     },
     "execution_count": 65,
     "metadata": {},
     "output_type": "execute_result"
    }
   ],
   "source": [
    "@calc_time_decorator\n",
    "@pajak_decorator\n",
    "def hitung_pembayaran_1(keranjang):\n",
    "    return r(lambda a,b: a + (b['Jumlah_Barang'] * b['Harga']), keranjang, 0)\n",
    "hitung_pembayaran_1(keranjang)"
   ]
  },
  {
   "cell_type": "code",
   "execution_count": 68,
   "id": "ef7a8127",
   "metadata": {},
   "outputs": [
    {
     "name": "stdout",
     "output_type": "stream",
     "text": [
      "Sub Total:  280000.0\n",
      "Pajak:  30800.0\n",
      "Total:  310800.0\n",
      "Waktu eksekusi:  0.010005474090576172\n"
     ]
    },
    {
     "data": {
      "text/plain": [
       "280000.0"
      ]
     },
     "execution_count": 68,
     "metadata": {},
     "output_type": "execute_result"
    }
   ],
   "source": [
    "@calc_time_decorator\n",
    "@pajak_decorator\n",
    "def hitung_pembayaran_2(keranjang):\n",
    "    s = 0\n",
    "    for k in keranjang:\n",
    "        s = s + k['Jumlah_Barang'] * k['Harga']\n",
    "    return s * 1000\n",
    "hitung_pembayaran_2(keranjang)"
   ]
  },
  {
   "cell_type": "markdown",
   "id": "6e6a5b07",
   "metadata": {},
   "source": [
    "### Latihan UAS\n"
   ]
  },
  {
   "cell_type": "code",
   "execution_count": 69,
   "id": "952533d5",
   "metadata": {},
   "outputs": [],
   "source": [
    "import numpy as np\n",
    "from random import randint\n",
    "from functools import reduce as r"
   ]
  },
  {
   "cell_type": "code",
   "execution_count": 70,
   "id": "ba57b7c7",
   "metadata": {},
   "outputs": [
    {
     "data": {
      "text/plain": [
       "array([[ 0.54260981,  0.07212758],\n",
       "       [-0.01271604,  0.39396045],\n",
       "       [ 0.97375111,  0.13003532]])"
      ]
     },
     "execution_count": 70,
     "metadata": {},
     "output_type": "execute_result"
    }
   ],
   "source": [
    "def fungsiw(a, b):\n",
    "    W= np.random.uniform(a, b, size=(3, 2))\n",
    "    return W\n",
    "W=fungsiw(-1, 1)\n",
    "W"
   ]
  },
  {
   "cell_type": "code",
   "execution_count": null,
   "id": "0f1d847f",
   "metadata": {},
   "outputs": [],
   "source": []
  }
 ],
 "metadata": {
  "kernelspec": {
   "display_name": "Python 3 (ipykernel)",
   "language": "python",
   "name": "python3"
  },
  "language_info": {
   "codemirror_mode": {
    "name": "ipython",
    "version": 3
   },
   "file_extension": ".py",
   "mimetype": "text/x-python",
   "name": "python",
   "nbconvert_exporter": "python",
   "pygments_lexer": "ipython3",
   "version": "3.9.7"
  }
 },
 "nbformat": 4,
 "nbformat_minor": 5
}
