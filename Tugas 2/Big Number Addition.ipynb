{
 "cells": [
  {
   "cell_type": "markdown",
   "id": "40443c3b",
   "metadata": {},
   "source": [
    "# Big Number Addition"
   ]
  },
  {
   "cell_type": "raw",
   "id": "18167bb4",
   "metadata": {},
   "source": [
    "Nama  : Alfianri Manihuruk\n",
    "NIM   : 120450088\n",
    "Kelas : RB\n",
    "Matkul: Pemograman Berbasis Fungsi"
   ]
  },
  {
   "cell_type": "raw",
   "id": "38b796c4",
   "metadata": {},
   "source": [
    "9502561694858652150281747994108545943651521215096841995237040384\n",
    "498740803993469376602031341619585763\n",
    "\n",
    "+\n",
    "\n",
    "2116068642696162934965789080530992805391900568978958496201555855\n",
    "833896833372295507803936243187061092\n",
    "\n",
    "= ?\n",
    "\n",
    "Selesaikan penjumlahan 100 digit tersebut dengan membuat program dengan\n",
    "langkah sebagai berikut:\n",
    "\n",
    "● Buat file txt untuk bilangan pertama\n",
    "● Buat file txt untuk bilangan ketiga\n",
    "● Input file txt bilangan pertama dan bilangan kedua\n",
    "● Buatlah program untuk menghitung penjumlahan kedua bilangan tersebut"
   ]
  },
  {
   "cell_type": "code",
   "execution_count": 12,
   "id": "bcf9dae0",
   "metadata": {},
   "outputs": [
    {
     "name": "stdout",
     "output_type": "stream",
     "text": [
      "Hasil Penjumlahan =  11618630337554814826348086790285854587429944447132304038458358061424824076107783714807302076307079168\n"
     ]
    }
   ],
   "source": [
    "import numpy as np\n",
    "t1 = open(\"text1.txt\", 'w')\n",
    "t1.write(\"9502561694858652150281747994108545943651521215096841995237040384498740803993469376602031341619585763\")\n",
    "t1.close()\n",
    "t1_read = open(\"text1.txt\", 'r')\n",
    "teks1=np.array(t1_read.read().split(\"\\n\")).astype(float)\n",
    "data1 = int(teks1)\n",
    "\n",
    "\n",
    "t2 = open(\"text2.txt\", 'w')\n",
    "t2.write(\"2116068642696162934965789080530992805391900568978958496201555855833896833372295507803936243187061092\")\n",
    "t2.close()\n",
    "t2_read = open(\"text2.txt\", 'r')\n",
    "teks2=np.array(t2_read.read().split(\"\\n\")).astype(float)\n",
    "data2 = int(teks2)\n",
    "\n",
    "hasil = data1 + data2\n",
    "print(\"Hasil Penjumlahan = \", hasil)"
   ]
  },
  {
   "cell_type": "code",
   "execution_count": null,
   "id": "69e7a606",
   "metadata": {},
   "outputs": [],
   "source": []
  }
 ],
 "metadata": {
  "kernelspec": {
   "display_name": "Python 3 (ipykernel)",
   "language": "python",
   "name": "python3"
  },
  "language_info": {
   "codemirror_mode": {
    "name": "ipython",
    "version": 3
   },
   "file_extension": ".py",
   "mimetype": "text/x-python",
   "name": "python",
   "nbconvert_exporter": "python",
   "pygments_lexer": "ipython3",
   "version": "3.9.7"
  }
 },
 "nbformat": 4,
 "nbformat_minor": 5
}
