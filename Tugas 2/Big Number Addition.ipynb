{
 "cells": [
  {
   "cell_type": "markdown",
   "id": "40443c3b",
   "metadata": {},
   "source": [
    "# Big Number Addition"
   ]
  },
  {
   "cell_type": "raw",
   "id": "18167bb4",
   "metadata": {},
   "source": [
    "Nama  : Alfianri Manihuruk\n",
    "NIM   : 120450088\n",
    "Kelas : RB\n",
    "Matkul: Pemograman Berbasis Fungsi"
   ]
  },
  {
   "cell_type": "raw",
   "id": "38b796c4",
   "metadata": {},
   "source": [
    "9502561694858652150281747994108545943651521215096841995237040384\n",
    "498740803993469376602031341619585763\n",
    "\n",
    "+\n",
    "\n",
    "2116068642696162934965789080530992805391900568978958496201555855\n",
    "833896833372295507803936243187061092\n",
    "\n",
    "= ?\n",
    "\n",
    "Selesaikan penjumlahan 100 digit tersebut dengan membuat program dengan\n",
    "langkah sebagai berikut:\n",
    "\n",
    "● Buat file txt untuk bilangan pertama\n",
    "● Buat file txt untuk bilangan ketiga\n",
    "● Input file txt bilangan pertama dan bilangan kedua\n",
    "● Buatlah program untuk menghitung penjumlahan kedua bilangan tersebut"
   ]
  },
  {
   "cell_type": "code",
   "execution_count": 4,
   "id": "bcf9dae0",
   "metadata": {},
   "outputs": [
    {
     "name": "stdout",
     "output_type": "stream",
     "text": [
      "Hasi Penjumlahan = 11618630337554814826348086790285854587429944447132304038458358061424824076107783714807302076307079168\n"
     ]
    }
   ],
   "source": [
    "import numpy as np\n",
    "a = open(\"text1.txt\", 'w')\n",
    "a.write(\"9502561694858652150281747994108545943651521215096841995237040384498740803993469376602031341619585763\")\n",
    "a.close()\n",
    "aa = open(\"text1.txt\", 'r')\n",
    "f1=np.array(aa.read().split(\"\\n\")).astype(float)\n",
    "ff1 = int(f1)\n",
    "\n",
    "\n",
    "b = open(\"text2.txt\", 'w')\n",
    "b.write(\"2116068642696162934965789080530992805391900568978958496201555855833896833372295507803936243187061092\")\n",
    "b.close()\n",
    "bb = open(\"text2.txt\", 'r')\n",
    "f2=np.array(bb.read().split(\"\\n\")).astype(float)\n",
    "ff2 = int(f2)\n",
    "\n",
    "f3 = ff1 + ff2\n",
    "\n",
    "print(\"Hasi Penjumlahan =\" , f3)"
   ]
  },
  {
   "cell_type": "code",
   "execution_count": null,
   "id": "69e7a606",
   "metadata": {},
   "outputs": [],
   "source": []
  }
 ],
 "metadata": {
  "kernelspec": {
   "display_name": "Python 3 (ipykernel)",
   "language": "python",
   "name": "python3"
  },
  "language_info": {
   "codemirror_mode": {
    "name": "ipython",
    "version": 3
   },
   "file_extension": ".py",
   "mimetype": "text/x-python",
   "name": "python",
   "nbconvert_exporter": "python",
   "pygments_lexer": "ipython3",
   "version": "3.9.7"
  }
 },
 "nbformat": 4,
 "nbformat_minor": 5
}
